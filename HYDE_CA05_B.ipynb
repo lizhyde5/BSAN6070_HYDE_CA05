{
  "nbformat": 4,
  "nbformat_minor": 0,
  "metadata": {
    "colab": {
      "name": "HYDE_CA05_B.ipynb",
      "provenance": []
    },
    "kernelspec": {
      "name": "python3",
      "display_name": "Python 3"
    }
  },
  "cells": [
    {
      "cell_type": "markdown",
      "metadata": {
        "id": "SqqYyJ6OZBJt",
        "colab_type": "text"
      },
      "source": [
        "# **CA05 PART B: kNN based Recommender Engine**\n",
        "## **6070 Machine Learning**\n",
        "## Elizabeth Hyde\n",
        "\n",
        "**Data Source:** The data is a subset of the IMDb dataset from the UCI Machine Learning Repository. The data contains 30 movies, including data for each movie across seven genres and their IMDB ratings. \n",
        "\n",
        "\n",
        "**Objective:**  Replicate a recommender system on a small scare. Given the movies dataset, what are the 5 most similar movies to a movie query?"
      ]
    },
    {
      "cell_type": "code",
      "metadata": {
        "id": "9B5iaxIEY7Hj",
        "colab_type": "code",
        "colab": {}
      },
      "source": [
        "import pandas as pd\n",
        "import numpy as np"
      ],
      "execution_count": 0,
      "outputs": []
    },
    {
      "cell_type": "code",
      "metadata": {
        "id": "7hR_OEcQa5fQ",
        "colab_type": "code",
        "colab": {}
      },
      "source": [
        "movies = pd.read_csv('https://github.com/ArinB/CA05-kNN/raw/master/movies_recommendation_data.csv')"
      ],
      "execution_count": 0,
      "outputs": []
    },
    {
      "cell_type": "code",
      "metadata": {
        "id": "meFva8FWbxOO",
        "colab_type": "code",
        "outputId": "f7338abe-d7b1-4e1c-fc68-d94abcd0b3b0",
        "colab": {
          "base_uri": "https://localhost:8080/",
          "height": 362
        }
      },
      "source": [
        "movies.head(10)"
      ],
      "execution_count": 4,
      "outputs": [
        {
          "output_type": "execute_result",
          "data": {
            "text/html": [
              "<div>\n",
              "<style scoped>\n",
              "    .dataframe tbody tr th:only-of-type {\n",
              "        vertical-align: middle;\n",
              "    }\n",
              "\n",
              "    .dataframe tbody tr th {\n",
              "        vertical-align: top;\n",
              "    }\n",
              "\n",
              "    .dataframe thead th {\n",
              "        text-align: right;\n",
              "    }\n",
              "</style>\n",
              "<table border=\"1\" class=\"dataframe\">\n",
              "  <thead>\n",
              "    <tr style=\"text-align: right;\">\n",
              "      <th></th>\n",
              "      <th>Movie ID</th>\n",
              "      <th>Movie Name</th>\n",
              "      <th>IMDB Rating</th>\n",
              "      <th>Biography</th>\n",
              "      <th>Drama</th>\n",
              "      <th>Thriller</th>\n",
              "      <th>Comedy</th>\n",
              "      <th>Crime</th>\n",
              "      <th>Mystery</th>\n",
              "      <th>History</th>\n",
              "      <th>Label</th>\n",
              "    </tr>\n",
              "  </thead>\n",
              "  <tbody>\n",
              "    <tr>\n",
              "      <th>0</th>\n",
              "      <td>58</td>\n",
              "      <td>The Imitation Game</td>\n",
              "      <td>8.0</td>\n",
              "      <td>1</td>\n",
              "      <td>1</td>\n",
              "      <td>1</td>\n",
              "      <td>0</td>\n",
              "      <td>0</td>\n",
              "      <td>0</td>\n",
              "      <td>0</td>\n",
              "      <td>0</td>\n",
              "    </tr>\n",
              "    <tr>\n",
              "      <th>1</th>\n",
              "      <td>8</td>\n",
              "      <td>Ex Machina</td>\n",
              "      <td>7.7</td>\n",
              "      <td>0</td>\n",
              "      <td>1</td>\n",
              "      <td>0</td>\n",
              "      <td>0</td>\n",
              "      <td>0</td>\n",
              "      <td>1</td>\n",
              "      <td>0</td>\n",
              "      <td>0</td>\n",
              "    </tr>\n",
              "    <tr>\n",
              "      <th>2</th>\n",
              "      <td>46</td>\n",
              "      <td>A Beautiful Mind</td>\n",
              "      <td>8.2</td>\n",
              "      <td>1</td>\n",
              "      <td>1</td>\n",
              "      <td>0</td>\n",
              "      <td>0</td>\n",
              "      <td>0</td>\n",
              "      <td>0</td>\n",
              "      <td>0</td>\n",
              "      <td>0</td>\n",
              "    </tr>\n",
              "    <tr>\n",
              "      <th>3</th>\n",
              "      <td>62</td>\n",
              "      <td>Good Will Hunting</td>\n",
              "      <td>8.3</td>\n",
              "      <td>0</td>\n",
              "      <td>1</td>\n",
              "      <td>0</td>\n",
              "      <td>0</td>\n",
              "      <td>0</td>\n",
              "      <td>0</td>\n",
              "      <td>0</td>\n",
              "      <td>0</td>\n",
              "    </tr>\n",
              "    <tr>\n",
              "      <th>4</th>\n",
              "      <td>97</td>\n",
              "      <td>Forrest Gump</td>\n",
              "      <td>8.8</td>\n",
              "      <td>0</td>\n",
              "      <td>1</td>\n",
              "      <td>0</td>\n",
              "      <td>0</td>\n",
              "      <td>0</td>\n",
              "      <td>0</td>\n",
              "      <td>0</td>\n",
              "      <td>0</td>\n",
              "    </tr>\n",
              "    <tr>\n",
              "      <th>5</th>\n",
              "      <td>98</td>\n",
              "      <td>21</td>\n",
              "      <td>6.8</td>\n",
              "      <td>0</td>\n",
              "      <td>1</td>\n",
              "      <td>0</td>\n",
              "      <td>0</td>\n",
              "      <td>1</td>\n",
              "      <td>0</td>\n",
              "      <td>1</td>\n",
              "      <td>0</td>\n",
              "    </tr>\n",
              "    <tr>\n",
              "      <th>6</th>\n",
              "      <td>31</td>\n",
              "      <td>Gifted</td>\n",
              "      <td>7.6</td>\n",
              "      <td>0</td>\n",
              "      <td>1</td>\n",
              "      <td>0</td>\n",
              "      <td>0</td>\n",
              "      <td>0</td>\n",
              "      <td>0</td>\n",
              "      <td>0</td>\n",
              "      <td>0</td>\n",
              "    </tr>\n",
              "    <tr>\n",
              "      <th>7</th>\n",
              "      <td>3</td>\n",
              "      <td>Travelling Salesman</td>\n",
              "      <td>5.9</td>\n",
              "      <td>0</td>\n",
              "      <td>1</td>\n",
              "      <td>0</td>\n",
              "      <td>0</td>\n",
              "      <td>0</td>\n",
              "      <td>1</td>\n",
              "      <td>0</td>\n",
              "      <td>0</td>\n",
              "    </tr>\n",
              "    <tr>\n",
              "      <th>8</th>\n",
              "      <td>51</td>\n",
              "      <td>Avatar</td>\n",
              "      <td>7.9</td>\n",
              "      <td>0</td>\n",
              "      <td>0</td>\n",
              "      <td>0</td>\n",
              "      <td>0</td>\n",
              "      <td>0</td>\n",
              "      <td>0</td>\n",
              "      <td>0</td>\n",
              "      <td>0</td>\n",
              "    </tr>\n",
              "    <tr>\n",
              "      <th>9</th>\n",
              "      <td>47</td>\n",
              "      <td>The Karate Kid</td>\n",
              "      <td>7.2</td>\n",
              "      <td>0</td>\n",
              "      <td>1</td>\n",
              "      <td>0</td>\n",
              "      <td>0</td>\n",
              "      <td>0</td>\n",
              "      <td>0</td>\n",
              "      <td>0</td>\n",
              "      <td>0</td>\n",
              "    </tr>\n",
              "  </tbody>\n",
              "</table>\n",
              "</div>"
            ],
            "text/plain": [
              "   Movie ID           Movie Name  IMDB Rating  ...  Mystery  History  Label\n",
              "0        58   The Imitation Game          8.0  ...        0        0      0\n",
              "1         8           Ex Machina          7.7  ...        1        0      0\n",
              "2        46     A Beautiful Mind          8.2  ...        0        0      0\n",
              "3        62    Good Will Hunting          8.3  ...        0        0      0\n",
              "4        97         Forrest Gump          8.8  ...        0        0      0\n",
              "5        98                   21          6.8  ...        0        1      0\n",
              "6        31               Gifted          7.6  ...        0        0      0\n",
              "7         3  Travelling Salesman          5.9  ...        1        0      0\n",
              "8        51               Avatar          7.9  ...        0        0      0\n",
              "9        47       The Karate Kid          7.2  ...        0        0      0\n",
              "\n",
              "[10 rows x 11 columns]"
            ]
          },
          "metadata": {
            "tags": []
          },
          "execution_count": 4
        }
      ]
    },
    {
      "cell_type": "code",
      "metadata": {
        "id": "auGK1P__76rm",
        "colab_type": "code",
        "colab": {}
      },
      "source": [
        "X = movies[['IMDB Rating', 'Biography', 'Drama', 'Thriller','Comedy','Crime','Mystery','History']]\n",
        "\n",
        "y = movies['Movie Name']"
      ],
      "execution_count": 0,
      "outputs": []
    },
    {
      "cell_type": "code",
      "metadata": {
        "id": "bKHVaZo_pP1o",
        "colab_type": "code",
        "colab": {
          "base_uri": "https://localhost:8080/",
          "height": 34
        },
        "outputId": "f0186513-8147-4ab6-db09-e74997c4477c"
      },
      "source": [
        "from sklearn.neighbors import NearestNeighbors\n",
        "\n",
        "recommend = NearestNeighbors(n_neighbors=5)\n",
        "\n",
        "recommend.fit(X,y)\n",
        "\n",
        "recommendations = recommend.kneighbors([[7.2, 1, 1, 0, 0, 0, 0, 1]])\n",
        "\n",
        "print(recommendations)"
      ],
      "execution_count": 14,
      "outputs": [
        {
          "output_type": "stream",
          "text": [
            "(array([[0.9       , 1.        , 1.0198039 , 1.16619038, 1.41421356]]), array([[28, 27, 29, 16,  2]]))\n"
          ],
          "name": "stdout"
        }
      ]
    },
    {
      "cell_type": "code",
      "metadata": {
        "id": "CnKyFvZIS2i2",
        "colab_type": "code",
        "colab": {
          "base_uri": "https://localhost:8080/",
          "height": 1000
        },
        "outputId": "82ad905e-74f7-4122-c938-c221f9c67db7"
      },
      "source": [
        "# use output to print movie names for corresponding index values\n",
        "ids = [28, 27, 29, 16,  2]\n",
        "for i in ids:\n",
        "  print(movies.iloc[i])"
      ],
      "execution_count": 30,
      "outputs": [
        {
          "output_type": "stream",
          "text": [
            "Movie ID                      2\n",
            "Movie Name     12 Years a Slave\n",
            "IMDB Rating                 8.1\n",
            "Biography                     1\n",
            "Drama                         1\n",
            "Thriller                      0\n",
            "Comedy                        0\n",
            "Crime                         0\n",
            "Mystery                       0\n",
            "History                       1\n",
            "Label                         0\n",
            "Name: 28, dtype: object\n",
            "Movie ID                   2\n",
            "Movie Name     Hacksaw Ridge\n",
            "IMDB Rating              8.2\n",
            "Biography                  1\n",
            "Drama                      1\n",
            "Thriller                   0\n",
            "Comedy                     0\n",
            "Crime                      0\n",
            "Mystery                    0\n",
            "History                    1\n",
            "Label                      0\n",
            "Name: 27, dtype: object\n",
            "Movie ID                    2\n",
            "Movie Name     Queen of Katwe\n",
            "IMDB Rating               7.4\n",
            "Biography                   1\n",
            "Drama                       1\n",
            "Thriller                    0\n",
            "Comedy                      0\n",
            "Crime                       0\n",
            "Mystery                     0\n",
            "History                     0\n",
            "Label                       0\n",
            "Name: 29, dtype: object\n",
            "Movie ID                    2\n",
            "Movie Name     The Wind Rises\n",
            "IMDB Rating               7.8\n",
            "Biography                   1\n",
            "Drama                       1\n",
            "Thriller                    0\n",
            "Comedy                      0\n",
            "Crime                       0\n",
            "Mystery                     0\n",
            "History                     0\n",
            "Label                       0\n",
            "Name: 16, dtype: object\n",
            "Movie ID                      2\n",
            "Movie Name     A Beautiful Mind\n",
            "IMDB Rating                 8.2\n",
            "Biography                     1\n",
            "Drama                         1\n",
            "Thriller                      0\n",
            "Comedy                        0\n",
            "Crime                         0\n",
            "Mystery                       0\n",
            "History                       0\n",
            "Label                         0\n",
            "Name: 2, dtype: object\n"
          ],
          "name": "stdout"
        }
      ]
    },
    {
      "cell_type": "markdown",
      "metadata": {
        "id": "Zq-KjjC-XvB0",
        "colab_type": "text"
      },
      "source": [
        "**Recommendations for The Post:**\n",
        "\n",
        "1. 12 Years a Slave\n",
        "2. Hacksaw Ridge\n",
        "3. Queen of Katwe\n",
        "4. The Wind Rises\n",
        "5. A Beautiful Mind\n"
      ]
    }
  ]
}