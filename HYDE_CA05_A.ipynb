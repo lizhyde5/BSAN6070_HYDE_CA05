{
  "nbformat": 4,
  "nbformat_minor": 0,
  "metadata": {
    "colab": {
      "name": "HYDE_CA05_A.ipynb",
      "provenance": [],
      "collapsed_sections": []
    },
    "kernelspec": {
      "name": "python3",
      "display_name": "Python 3"
    }
  },
  "cells": [
    {
      "cell_type": "markdown",
      "metadata": {
        "id": "c_z8gLNvyRcA",
        "colab_type": "text"
      },
      "source": [
        "# **CA05 PART A: Logistic Regression**\n",
        "\n",
        "## 6070 Machine Learning\n",
        "## Elizabeth Hyde\n",
        "\n",
        "**Data Source:** Cardiovascular Disease (CVD) kills more people than cancer flobally. A dataset of real heart patients collected from a 15 year heart study cohot is made available for this assignment. The dataset has 16 patient features. Note that none of the features include any Blood Test information. \n",
        "\n",
        "\n",
        "\n",
        "Feature definitions can be found at the following site: https://sleepdata.org/datasets/shhs/variables"
      ]
    },
    {
      "cell_type": "code",
      "metadata": {
        "id": "vLTLbxRVyLKU",
        "colab_type": "code",
        "colab": {}
      },
      "source": [
        "import pandas as pd\n",
        "import numpy as np "
      ],
      "execution_count": 0,
      "outputs": []
    },
    {
      "cell_type": "code",
      "metadata": {
        "id": "hxqbJ6TLzdd_",
        "colab_type": "code",
        "colab": {}
      },
      "source": [
        "cvd = pd.read_csv('https://github.com/ArinB/CA05-B-Logistic-Regression/raw/master/cvd_data.csv')"
      ],
      "execution_count": 0,
      "outputs": []
    },
    {
      "cell_type": "code",
      "metadata": {
        "id": "H41m3JF90T85",
        "colab_type": "code",
        "outputId": "6db29cbe-c7d6-4030-da70-1d734dd03074",
        "colab": {
          "base_uri": "https://localhost:8080/",
          "height": 382
        }
      },
      "source": [
        "cvd.head(10)"
      ],
      "execution_count": 0,
      "outputs": [
        {
          "output_type": "execute_result",
          "data": {
            "text/html": [
              "<div>\n",
              "<style scoped>\n",
              "    .dataframe tbody tr th:only-of-type {\n",
              "        vertical-align: middle;\n",
              "    }\n",
              "\n",
              "    .dataframe tbody tr th {\n",
              "        vertical-align: top;\n",
              "    }\n",
              "\n",
              "    .dataframe thead th {\n",
              "        text-align: right;\n",
              "    }\n",
              "</style>\n",
              "<table border=\"1\" class=\"dataframe\">\n",
              "  <thead>\n",
              "    <tr style=\"text-align: right;\">\n",
              "      <th></th>\n",
              "      <th>cvd_4types</th>\n",
              "      <th>age_s1</th>\n",
              "      <th>race</th>\n",
              "      <th>educat</th>\n",
              "      <th>mstat</th>\n",
              "      <th>hip</th>\n",
              "      <th>neck20</th>\n",
              "      <th>waist</th>\n",
              "      <th>av_weight_kg</th>\n",
              "      <th>cgpkyr</th>\n",
              "      <th>tea15</th>\n",
              "      <th>srhype</th>\n",
              "      <th>parrptdiab</th>\n",
              "      <th>bend25</th>\n",
              "      <th>happy25</th>\n",
              "      <th>tired25</th>\n",
              "      <th>hlthlm25</th>\n",
              "    </tr>\n",
              "  </thead>\n",
              "  <tbody>\n",
              "    <tr>\n",
              "      <th>0</th>\n",
              "      <td>0</td>\n",
              "      <td>54</td>\n",
              "      <td>1</td>\n",
              "      <td>2</td>\n",
              "      <td>1</td>\n",
              "      <td>110.0</td>\n",
              "      <td>40.0</td>\n",
              "      <td>108.0</td>\n",
              "      <td>87.5</td>\n",
              "      <td>34.00</td>\n",
              "      <td>0</td>\n",
              "      <td>1</td>\n",
              "      <td>0</td>\n",
              "      <td>1</td>\n",
              "      <td>2</td>\n",
              "      <td>3</td>\n",
              "      <td>4</td>\n",
              "    </tr>\n",
              "    <tr>\n",
              "      <th>1</th>\n",
              "      <td>0</td>\n",
              "      <td>56</td>\n",
              "      <td>3</td>\n",
              "      <td>2</td>\n",
              "      <td>1</td>\n",
              "      <td>113.0</td>\n",
              "      <td>34.0</td>\n",
              "      <td>107.0</td>\n",
              "      <td>83.5</td>\n",
              "      <td>0.00</td>\n",
              "      <td>0</td>\n",
              "      <td>0</td>\n",
              "      <td>0</td>\n",
              "      <td>2</td>\n",
              "      <td>2</td>\n",
              "      <td>1</td>\n",
              "      <td>3</td>\n",
              "    </tr>\n",
              "    <tr>\n",
              "      <th>2</th>\n",
              "      <td>0</td>\n",
              "      <td>54</td>\n",
              "      <td>1</td>\n",
              "      <td>3</td>\n",
              "      <td>1</td>\n",
              "      <td>110.0</td>\n",
              "      <td>44.5</td>\n",
              "      <td>105.0</td>\n",
              "      <td>86.2</td>\n",
              "      <td>49.50</td>\n",
              "      <td>0</td>\n",
              "      <td>0</td>\n",
              "      <td>0</td>\n",
              "      <td>3</td>\n",
              "      <td>2</td>\n",
              "      <td>6</td>\n",
              "      <td>4</td>\n",
              "    </tr>\n",
              "    <tr>\n",
              "      <th>3</th>\n",
              "      <td>0</td>\n",
              "      <td>54</td>\n",
              "      <td>1</td>\n",
              "      <td>3</td>\n",
              "      <td>1</td>\n",
              "      <td>129.0</td>\n",
              "      <td>42.5</td>\n",
              "      <td>110.0</td>\n",
              "      <td>89.1</td>\n",
              "      <td>0.00</td>\n",
              "      <td>0</td>\n",
              "      <td>0</td>\n",
              "      <td>0</td>\n",
              "      <td>3</td>\n",
              "      <td>2</td>\n",
              "      <td>1</td>\n",
              "      <td>3</td>\n",
              "    </tr>\n",
              "    <tr>\n",
              "      <th>4</th>\n",
              "      <td>0</td>\n",
              "      <td>51</td>\n",
              "      <td>3</td>\n",
              "      <td>2</td>\n",
              "      <td>1</td>\n",
              "      <td>122.0</td>\n",
              "      <td>37.0</td>\n",
              "      <td>113.0</td>\n",
              "      <td>81.3</td>\n",
              "      <td>0.00</td>\n",
              "      <td>0</td>\n",
              "      <td>0</td>\n",
              "      <td>0</td>\n",
              "      <td>2</td>\n",
              "      <td>1</td>\n",
              "      <td>1</td>\n",
              "      <td>2</td>\n",
              "    </tr>\n",
              "    <tr>\n",
              "      <th>5</th>\n",
              "      <td>0</td>\n",
              "      <td>67</td>\n",
              "      <td>1</td>\n",
              "      <td>3</td>\n",
              "      <td>3</td>\n",
              "      <td>140.0</td>\n",
              "      <td>35.5</td>\n",
              "      <td>101.0</td>\n",
              "      <td>87.2</td>\n",
              "      <td>0.00</td>\n",
              "      <td>0</td>\n",
              "      <td>1</td>\n",
              "      <td>0</td>\n",
              "      <td>1</td>\n",
              "      <td>1</td>\n",
              "      <td>4</td>\n",
              "      <td>4</td>\n",
              "    </tr>\n",
              "    <tr>\n",
              "      <th>6</th>\n",
              "      <td>0</td>\n",
              "      <td>68</td>\n",
              "      <td>1</td>\n",
              "      <td>2</td>\n",
              "      <td>1</td>\n",
              "      <td>101.0</td>\n",
              "      <td>39.0</td>\n",
              "      <td>93.0</td>\n",
              "      <td>80.5</td>\n",
              "      <td>9.20</td>\n",
              "      <td>0</td>\n",
              "      <td>0</td>\n",
              "      <td>0</td>\n",
              "      <td>2</td>\n",
              "      <td>3</td>\n",
              "      <td>4</td>\n",
              "      <td>4</td>\n",
              "    </tr>\n",
              "    <tr>\n",
              "      <th>7</th>\n",
              "      <td>0</td>\n",
              "      <td>67</td>\n",
              "      <td>1</td>\n",
              "      <td>2</td>\n",
              "      <td>1</td>\n",
              "      <td>107.0</td>\n",
              "      <td>32.0</td>\n",
              "      <td>80.0</td>\n",
              "      <td>73.2</td>\n",
              "      <td>0.00</td>\n",
              "      <td>0</td>\n",
              "      <td>1</td>\n",
              "      <td>0</td>\n",
              "      <td>2</td>\n",
              "      <td>2</td>\n",
              "      <td>4</td>\n",
              "      <td>4</td>\n",
              "    </tr>\n",
              "    <tr>\n",
              "      <th>8</th>\n",
              "      <td>0</td>\n",
              "      <td>44</td>\n",
              "      <td>1</td>\n",
              "      <td>2</td>\n",
              "      <td>1</td>\n",
              "      <td>100.0</td>\n",
              "      <td>36.5</td>\n",
              "      <td>89.0</td>\n",
              "      <td>79.1</td>\n",
              "      <td>6.75</td>\n",
              "      <td>0</td>\n",
              "      <td>0</td>\n",
              "      <td>0</td>\n",
              "      <td>3</td>\n",
              "      <td>3</td>\n",
              "      <td>4</td>\n",
              "      <td>4</td>\n",
              "    </tr>\n",
              "    <tr>\n",
              "      <th>9</th>\n",
              "      <td>0</td>\n",
              "      <td>42</td>\n",
              "      <td>1</td>\n",
              "      <td>2</td>\n",
              "      <td>1</td>\n",
              "      <td>105.0</td>\n",
              "      <td>35.5</td>\n",
              "      <td>90.0</td>\n",
              "      <td>78.1</td>\n",
              "      <td>21.00</td>\n",
              "      <td>0</td>\n",
              "      <td>0</td>\n",
              "      <td>0</td>\n",
              "      <td>3</td>\n",
              "      <td>2</td>\n",
              "      <td>3</td>\n",
              "      <td>3</td>\n",
              "    </tr>\n",
              "  </tbody>\n",
              "</table>\n",
              "</div>"
            ],
            "text/plain": [
              "   cvd_4types  age_s1  race  educat  ...  bend25  happy25  tired25  hlthlm25\n",
              "0           0      54     1       2  ...       1        2        3         4\n",
              "1           0      56     3       2  ...       2        2        1         3\n",
              "2           0      54     1       3  ...       3        2        6         4\n",
              "3           0      54     1       3  ...       3        2        1         3\n",
              "4           0      51     3       2  ...       2        1        1         2\n",
              "5           0      67     1       3  ...       1        1        4         4\n",
              "6           0      68     1       2  ...       2        3        4         4\n",
              "7           0      67     1       2  ...       2        2        4         4\n",
              "8           0      44     1       2  ...       3        3        4         4\n",
              "9           0      42     1       2  ...       3        2        3         3\n",
              "\n",
              "[10 rows x 17 columns]"
            ]
          },
          "metadata": {
            "tags": []
          },
          "execution_count": 3
        }
      ]
    },
    {
      "cell_type": "code",
      "metadata": {
        "id": "iKvUI30NUIkg",
        "colab_type": "code",
        "outputId": "faa365a6-5212-4870-89dc-670cf23be56a",
        "colab": {
          "base_uri": "https://localhost:8080/",
          "height": 398
        }
      },
      "source": [
        "cvd.describe()\n",
        "cvd.info()"
      ],
      "execution_count": 0,
      "outputs": [
        {
          "output_type": "stream",
          "text": [
            "<class 'pandas.core.frame.DataFrame'>\n",
            "RangeIndex: 3242 entries, 0 to 3241\n",
            "Data columns (total 17 columns):\n",
            "cvd_4types      3242 non-null int64\n",
            "age_s1          3242 non-null int64\n",
            "race            3242 non-null int64\n",
            "educat          3242 non-null int64\n",
            "mstat           3242 non-null int64\n",
            "hip             3242 non-null float64\n",
            "neck20          3242 non-null float64\n",
            "waist           3242 non-null float64\n",
            "av_weight_kg    3242 non-null float64\n",
            "cgpkyr          3242 non-null float64\n",
            "tea15           3242 non-null int64\n",
            "srhype          3242 non-null int64\n",
            "parrptdiab      3242 non-null int64\n",
            "bend25          3242 non-null int64\n",
            "happy25         3242 non-null int64\n",
            "tired25         3242 non-null int64\n",
            "hlthlm25        3242 non-null int64\n",
            "dtypes: float64(5), int64(12)\n",
            "memory usage: 430.7 KB\n"
          ],
          "name": "stdout"
        }
      ]
    },
    {
      "cell_type": "markdown",
      "metadata": {
        "id": "p4bFnuJrTTmm",
        "colab_type": "text"
      },
      "source": [
        "**Part 1: Build a Logistic Regression Model**\n",
        "\n",
        "Build a binary classifier model to predict the CVD Risk (Yes/No or 1/0) using a Logistic Regression Model with the best performance possible. \n"
      ]
    },
    {
      "cell_type": "code",
      "metadata": {
        "id": "fNaM0NS3TS5a",
        "colab_type": "code",
        "outputId": "2d8148d2-d3c3-4c72-cef9-691a2454a668",
        "colab": {
          "base_uri": "https://localhost:8080/",
          "height": 226
        }
      },
      "source": [
        "#make dummies for categorical variables\n",
        "cvdata = pd.get_dummies(cvd, columns=['race','educat','mstat','srhype','parrptdiab','bend25','happy25','tired25','hlthlm25'], drop_first=True)\n",
        "\n",
        "cvdata.head()\n"
      ],
      "execution_count": 0,
      "outputs": [
        {
          "output_type": "execute_result",
          "data": {
            "text/html": [
              "<div>\n",
              "<style scoped>\n",
              "    .dataframe tbody tr th:only-of-type {\n",
              "        vertical-align: middle;\n",
              "    }\n",
              "\n",
              "    .dataframe tbody tr th {\n",
              "        vertical-align: top;\n",
              "    }\n",
              "\n",
              "    .dataframe thead th {\n",
              "        text-align: right;\n",
              "    }\n",
              "</style>\n",
              "<table border=\"1\" class=\"dataframe\">\n",
              "  <thead>\n",
              "    <tr style=\"text-align: right;\">\n",
              "      <th></th>\n",
              "      <th>cvd_4types</th>\n",
              "      <th>age_s1</th>\n",
              "      <th>hip</th>\n",
              "      <th>neck20</th>\n",
              "      <th>waist</th>\n",
              "      <th>av_weight_kg</th>\n",
              "      <th>cgpkyr</th>\n",
              "      <th>tea15</th>\n",
              "      <th>race_2</th>\n",
              "      <th>race_3</th>\n",
              "      <th>educat_2</th>\n",
              "      <th>educat_3</th>\n",
              "      <th>educat_4</th>\n",
              "      <th>mstat_2</th>\n",
              "      <th>mstat_3</th>\n",
              "      <th>mstat_4</th>\n",
              "      <th>mstat_8</th>\n",
              "      <th>srhype_1</th>\n",
              "      <th>parrptdiab_1</th>\n",
              "      <th>bend25_2</th>\n",
              "      <th>bend25_3</th>\n",
              "      <th>happy25_2</th>\n",
              "      <th>happy25_3</th>\n",
              "      <th>happy25_4</th>\n",
              "      <th>happy25_5</th>\n",
              "      <th>happy25_6</th>\n",
              "      <th>tired25_2</th>\n",
              "      <th>tired25_3</th>\n",
              "      <th>tired25_4</th>\n",
              "      <th>tired25_5</th>\n",
              "      <th>tired25_6</th>\n",
              "      <th>hlthlm25_2</th>\n",
              "      <th>hlthlm25_3</th>\n",
              "      <th>hlthlm25_4</th>\n",
              "      <th>hlthlm25_5</th>\n",
              "    </tr>\n",
              "  </thead>\n",
              "  <tbody>\n",
              "    <tr>\n",
              "      <th>0</th>\n",
              "      <td>0</td>\n",
              "      <td>54</td>\n",
              "      <td>110.0</td>\n",
              "      <td>40.0</td>\n",
              "      <td>108.0</td>\n",
              "      <td>87.5</td>\n",
              "      <td>34.0</td>\n",
              "      <td>0</td>\n",
              "      <td>0</td>\n",
              "      <td>0</td>\n",
              "      <td>1</td>\n",
              "      <td>0</td>\n",
              "      <td>0</td>\n",
              "      <td>0</td>\n",
              "      <td>0</td>\n",
              "      <td>0</td>\n",
              "      <td>0</td>\n",
              "      <td>1</td>\n",
              "      <td>0</td>\n",
              "      <td>0</td>\n",
              "      <td>0</td>\n",
              "      <td>1</td>\n",
              "      <td>0</td>\n",
              "      <td>0</td>\n",
              "      <td>0</td>\n",
              "      <td>0</td>\n",
              "      <td>0</td>\n",
              "      <td>1</td>\n",
              "      <td>0</td>\n",
              "      <td>0</td>\n",
              "      <td>0</td>\n",
              "      <td>0</td>\n",
              "      <td>0</td>\n",
              "      <td>1</td>\n",
              "      <td>0</td>\n",
              "    </tr>\n",
              "    <tr>\n",
              "      <th>1</th>\n",
              "      <td>0</td>\n",
              "      <td>56</td>\n",
              "      <td>113.0</td>\n",
              "      <td>34.0</td>\n",
              "      <td>107.0</td>\n",
              "      <td>83.5</td>\n",
              "      <td>0.0</td>\n",
              "      <td>0</td>\n",
              "      <td>0</td>\n",
              "      <td>1</td>\n",
              "      <td>1</td>\n",
              "      <td>0</td>\n",
              "      <td>0</td>\n",
              "      <td>0</td>\n",
              "      <td>0</td>\n",
              "      <td>0</td>\n",
              "      <td>0</td>\n",
              "      <td>0</td>\n",
              "      <td>0</td>\n",
              "      <td>1</td>\n",
              "      <td>0</td>\n",
              "      <td>1</td>\n",
              "      <td>0</td>\n",
              "      <td>0</td>\n",
              "      <td>0</td>\n",
              "      <td>0</td>\n",
              "      <td>0</td>\n",
              "      <td>0</td>\n",
              "      <td>0</td>\n",
              "      <td>0</td>\n",
              "      <td>0</td>\n",
              "      <td>0</td>\n",
              "      <td>1</td>\n",
              "      <td>0</td>\n",
              "      <td>0</td>\n",
              "    </tr>\n",
              "    <tr>\n",
              "      <th>2</th>\n",
              "      <td>0</td>\n",
              "      <td>54</td>\n",
              "      <td>110.0</td>\n",
              "      <td>44.5</td>\n",
              "      <td>105.0</td>\n",
              "      <td>86.2</td>\n",
              "      <td>49.5</td>\n",
              "      <td>0</td>\n",
              "      <td>0</td>\n",
              "      <td>0</td>\n",
              "      <td>0</td>\n",
              "      <td>1</td>\n",
              "      <td>0</td>\n",
              "      <td>0</td>\n",
              "      <td>0</td>\n",
              "      <td>0</td>\n",
              "      <td>0</td>\n",
              "      <td>0</td>\n",
              "      <td>0</td>\n",
              "      <td>0</td>\n",
              "      <td>1</td>\n",
              "      <td>1</td>\n",
              "      <td>0</td>\n",
              "      <td>0</td>\n",
              "      <td>0</td>\n",
              "      <td>0</td>\n",
              "      <td>0</td>\n",
              "      <td>0</td>\n",
              "      <td>0</td>\n",
              "      <td>0</td>\n",
              "      <td>1</td>\n",
              "      <td>0</td>\n",
              "      <td>0</td>\n",
              "      <td>1</td>\n",
              "      <td>0</td>\n",
              "    </tr>\n",
              "    <tr>\n",
              "      <th>3</th>\n",
              "      <td>0</td>\n",
              "      <td>54</td>\n",
              "      <td>129.0</td>\n",
              "      <td>42.5</td>\n",
              "      <td>110.0</td>\n",
              "      <td>89.1</td>\n",
              "      <td>0.0</td>\n",
              "      <td>0</td>\n",
              "      <td>0</td>\n",
              "      <td>0</td>\n",
              "      <td>0</td>\n",
              "      <td>1</td>\n",
              "      <td>0</td>\n",
              "      <td>0</td>\n",
              "      <td>0</td>\n",
              "      <td>0</td>\n",
              "      <td>0</td>\n",
              "      <td>0</td>\n",
              "      <td>0</td>\n",
              "      <td>0</td>\n",
              "      <td>1</td>\n",
              "      <td>1</td>\n",
              "      <td>0</td>\n",
              "      <td>0</td>\n",
              "      <td>0</td>\n",
              "      <td>0</td>\n",
              "      <td>0</td>\n",
              "      <td>0</td>\n",
              "      <td>0</td>\n",
              "      <td>0</td>\n",
              "      <td>0</td>\n",
              "      <td>0</td>\n",
              "      <td>1</td>\n",
              "      <td>0</td>\n",
              "      <td>0</td>\n",
              "    </tr>\n",
              "    <tr>\n",
              "      <th>4</th>\n",
              "      <td>0</td>\n",
              "      <td>51</td>\n",
              "      <td>122.0</td>\n",
              "      <td>37.0</td>\n",
              "      <td>113.0</td>\n",
              "      <td>81.3</td>\n",
              "      <td>0.0</td>\n",
              "      <td>0</td>\n",
              "      <td>0</td>\n",
              "      <td>1</td>\n",
              "      <td>1</td>\n",
              "      <td>0</td>\n",
              "      <td>0</td>\n",
              "      <td>0</td>\n",
              "      <td>0</td>\n",
              "      <td>0</td>\n",
              "      <td>0</td>\n",
              "      <td>0</td>\n",
              "      <td>0</td>\n",
              "      <td>1</td>\n",
              "      <td>0</td>\n",
              "      <td>0</td>\n",
              "      <td>0</td>\n",
              "      <td>0</td>\n",
              "      <td>0</td>\n",
              "      <td>0</td>\n",
              "      <td>0</td>\n",
              "      <td>0</td>\n",
              "      <td>0</td>\n",
              "      <td>0</td>\n",
              "      <td>0</td>\n",
              "      <td>1</td>\n",
              "      <td>0</td>\n",
              "      <td>0</td>\n",
              "      <td>0</td>\n",
              "    </tr>\n",
              "  </tbody>\n",
              "</table>\n",
              "</div>"
            ],
            "text/plain": [
              "   cvd_4types  age_s1    hip  ...  hlthlm25_3  hlthlm25_4  hlthlm25_5\n",
              "0           0      54  110.0  ...           0           1           0\n",
              "1           0      56  113.0  ...           1           0           0\n",
              "2           0      54  110.0  ...           0           1           0\n",
              "3           0      54  129.0  ...           1           0           0\n",
              "4           0      51  122.0  ...           0           0           0\n",
              "\n",
              "[5 rows x 35 columns]"
            ]
          },
          "metadata": {
            "tags": []
          },
          "execution_count": 5
        }
      ]
    },
    {
      "cell_type": "code",
      "metadata": {
        "id": "mg-CAm_5cDrJ",
        "colab_type": "code",
        "colab": {}
      },
      "source": [
        "#split data into train and test sets\n",
        "from sklearn.model_selection import train_test_split\n",
        "X=cvdata[['age_s1','race_2','race_3','educat_2', 'educat_3', 'educat_4','mstat_2', 'mstat_3', 'mstat_4', 'mstat_8','hip','neck20','waist','av_weight_kg','cgpkyr','tea15','srhype_1','parrptdiab_1','bend25_2', 'bend25_3','happy25_2', 'happy25_3', 'happy25_4', 'happy25_5', 'happy25_6','tired25_2', 'tired25_3', 'tired25_4', 'tired25_5', 'tired25_6','hlthlm25_2', 'hlthlm25_3', 'hlthlm25_4', 'hlthlm25_5']]\n",
        "y=cvdata['cvd_4types']\n",
        "X_train, X_test, y_train, y_test = train_test_split(X, y, test_size = .33, random_state = 100)"
      ],
      "execution_count": 0,
      "outputs": []
    },
    {
      "cell_type": "code",
      "metadata": {
        "id": "_gt-7Px4cI1S",
        "colab_type": "code",
        "colab": {}
      },
      "source": [
        "#Build Regression Model\n",
        "from sklearn import linear_model\n",
        "\n",
        "model1 = linear_model.LogisticRegression(C=1e40, solver= 'newton-cg')\n",
        "model1.fit(X_train, y_train)\n",
        "\n",
        "y_pred = model1.predict(X_test)\n"
      ],
      "execution_count": 0,
      "outputs": []
    },
    {
      "cell_type": "markdown",
      "metadata": {
        "id": "VH02nhcO-UvH",
        "colab_type": "text"
      },
      "source": [
        "**Part 2: Display Feature Importance**\n",
        "\n",
        "Display the feature importance of all the features sorted in the order of decrreasing influence on the CVD Risk. "
      ]
    },
    {
      "cell_type": "code",
      "metadata": {
        "id": "nc8vptm3-YzZ",
        "colab_type": "code",
        "outputId": "7e73c166-7cf4-4500-d053-24a82a0e3799",
        "colab": {
          "base_uri": "https://localhost:8080/",
          "height": 173
        }
      },
      "source": [
        "print(model1.coef_)"
      ],
      "execution_count": 0,
      "outputs": [
        {
          "output_type": "stream",
          "text": [
            "[[-4.97347605e-03 -7.76999490e-01 -2.63983731e+00 -8.26672116e-02\n",
            "   1.04652742e-02  1.37014532e+00 -6.60446747e-01 -4.07597196e-01\n",
            "  -2.05123579e+00  1.33048765e+01 -6.76513355e-02 -4.60095644e-02\n",
            "   8.41134015e-02 -2.02442508e-02  1.10742911e-03  6.78119894e-03\n",
            "  -4.65602242e-03  9.88033644e-01  2.06511898e-01  1.51877101e-02\n",
            "   1.84094966e-01 -8.96725812e-02 -2.01905940e-02  1.57563032e-01\n",
            "  -4.62425791e-01 -1.27781674e-01 -4.08327002e-01 -1.35626838e-01\n",
            "   1.16690286e-01  2.43174693e-02  1.53401641e+00  1.15864503e+00\n",
            "   1.24967579e+00 -1.25311356e+00]]\n"
          ],
          "name": "stdout"
        }
      ]
    },
    {
      "cell_type": "code",
      "metadata": {
        "id": "RHjf8vRxf-1y",
        "colab_type": "code",
        "colab": {}
      },
      "source": [
        "coef = pd.DataFrame(model1.coef_)"
      ],
      "execution_count": 0,
      "outputs": []
    },
    {
      "cell_type": "code",
      "metadata": {
        "id": "VwA0GSsGiDmI",
        "colab_type": "code",
        "outputId": "2e604193-441a-467d-e596-8023c1524b63",
        "colab": {
          "base_uri": "https://localhost:8080/",
          "height": 206
        }
      },
      "source": [
        "coef_axis = np.swapaxes(coef, 0, 1)\n",
        "\n",
        "coef_axis.head()"
      ],
      "execution_count": 0,
      "outputs": [
        {
          "output_type": "execute_result",
          "data": {
            "text/html": [
              "<div>\n",
              "<style scoped>\n",
              "    .dataframe tbody tr th:only-of-type {\n",
              "        vertical-align: middle;\n",
              "    }\n",
              "\n",
              "    .dataframe tbody tr th {\n",
              "        vertical-align: top;\n",
              "    }\n",
              "\n",
              "    .dataframe thead th {\n",
              "        text-align: right;\n",
              "    }\n",
              "</style>\n",
              "<table border=\"1\" class=\"dataframe\">\n",
              "  <thead>\n",
              "    <tr style=\"text-align: right;\">\n",
              "      <th></th>\n",
              "      <th>0</th>\n",
              "    </tr>\n",
              "  </thead>\n",
              "  <tbody>\n",
              "    <tr>\n",
              "      <th>0</th>\n",
              "      <td>-0.004973</td>\n",
              "    </tr>\n",
              "    <tr>\n",
              "      <th>1</th>\n",
              "      <td>-0.776999</td>\n",
              "    </tr>\n",
              "    <tr>\n",
              "      <th>2</th>\n",
              "      <td>-2.639837</td>\n",
              "    </tr>\n",
              "    <tr>\n",
              "      <th>3</th>\n",
              "      <td>-0.082667</td>\n",
              "    </tr>\n",
              "    <tr>\n",
              "      <th>4</th>\n",
              "      <td>0.010465</td>\n",
              "    </tr>\n",
              "  </tbody>\n",
              "</table>\n",
              "</div>"
            ],
            "text/plain": [
              "          0\n",
              "0 -0.004973\n",
              "1 -0.776999\n",
              "2 -2.639837\n",
              "3 -0.082667\n",
              "4  0.010465"
            ]
          },
          "metadata": {
            "tags": []
          },
          "execution_count": 10
        }
      ]
    },
    {
      "cell_type": "code",
      "metadata": {
        "id": "XRq-jFzOAqSt",
        "colab_type": "code",
        "outputId": "b78066e2-a34c-4081-fdbc-8ebc7776d49e",
        "colab": {
          "base_uri": "https://localhost:8080/",
          "height": 1000
        }
      },
      "source": [
        "#standardize coefficients and reindex to get feature names with correct coefficients\n",
        "zscores = np.std(X_train, 0)\n",
        "\n",
        "zscores_df = pd.DataFrame(zscores)\n",
        "\n",
        "stand_coef = zscores[0]*coef_axis[0]\n",
        "\n",
        "stand_coef1 = pd.DataFrame(stand_coef)\n",
        "\n",
        "stand_coef1.head(20)\n",
        "\n",
        "new_coef = stand_coef1.set_index(keys=zscores_df.index)\n",
        "\n",
        "new_coef.head(35)\n"
      ],
      "execution_count": 0,
      "outputs": [
        {
          "output_type": "execute_result",
          "data": {
            "text/html": [
              "<div>\n",
              "<style scoped>\n",
              "    .dataframe tbody tr th:only-of-type {\n",
              "        vertical-align: middle;\n",
              "    }\n",
              "\n",
              "    .dataframe tbody tr th {\n",
              "        vertical-align: top;\n",
              "    }\n",
              "\n",
              "    .dataframe thead th {\n",
              "        text-align: right;\n",
              "    }\n",
              "</style>\n",
              "<table border=\"1\" class=\"dataframe\">\n",
              "  <thead>\n",
              "    <tr style=\"text-align: right;\">\n",
              "      <th></th>\n",
              "      <th>0</th>\n",
              "    </tr>\n",
              "  </thead>\n",
              "  <tbody>\n",
              "    <tr>\n",
              "      <th>age_s1</th>\n",
              "      <td>-0.051673</td>\n",
              "    </tr>\n",
              "    <tr>\n",
              "      <th>race_2</th>\n",
              "      <td>-8.072760</td>\n",
              "    </tr>\n",
              "    <tr>\n",
              "      <th>race_3</th>\n",
              "      <td>-27.427012</td>\n",
              "    </tr>\n",
              "    <tr>\n",
              "      <th>educat_2</th>\n",
              "      <td>-0.858884</td>\n",
              "    </tr>\n",
              "    <tr>\n",
              "      <th>educat_3</th>\n",
              "      <td>0.108731</td>\n",
              "    </tr>\n",
              "    <tr>\n",
              "      <th>educat_4</th>\n",
              "      <td>14.235344</td>\n",
              "    </tr>\n",
              "    <tr>\n",
              "      <th>mstat_2</th>\n",
              "      <td>-6.861817</td>\n",
              "    </tr>\n",
              "    <tr>\n",
              "      <th>mstat_3</th>\n",
              "      <td>-4.234796</td>\n",
              "    </tr>\n",
              "    <tr>\n",
              "      <th>mstat_4</th>\n",
              "      <td>-21.311642</td>\n",
              "    </tr>\n",
              "    <tr>\n",
              "      <th>mstat_8</th>\n",
              "      <td>138.233140</td>\n",
              "    </tr>\n",
              "    <tr>\n",
              "      <th>hip</th>\n",
              "      <td>-0.702874</td>\n",
              "    </tr>\n",
              "    <tr>\n",
              "      <th>neck20</th>\n",
              "      <td>-0.478024</td>\n",
              "    </tr>\n",
              "    <tr>\n",
              "      <th>waist</th>\n",
              "      <td>0.873910</td>\n",
              "    </tr>\n",
              "    <tr>\n",
              "      <th>av_weight_kg</th>\n",
              "      <td>-0.210331</td>\n",
              "    </tr>\n",
              "    <tr>\n",
              "      <th>cgpkyr</th>\n",
              "      <td>0.011506</td>\n",
              "    </tr>\n",
              "    <tr>\n",
              "      <th>tea15</th>\n",
              "      <td>0.070454</td>\n",
              "    </tr>\n",
              "    <tr>\n",
              "      <th>srhype_1</th>\n",
              "      <td>-0.048374</td>\n",
              "    </tr>\n",
              "    <tr>\n",
              "      <th>parrptdiab_1</th>\n",
              "      <td>10.265333</td>\n",
              "    </tr>\n",
              "    <tr>\n",
              "      <th>bend25_2</th>\n",
              "      <td>2.145588</td>\n",
              "    </tr>\n",
              "    <tr>\n",
              "      <th>bend25_3</th>\n",
              "      <td>0.157795</td>\n",
              "    </tr>\n",
              "    <tr>\n",
              "      <th>happy25_2</th>\n",
              "      <td>1.912684</td>\n",
              "    </tr>\n",
              "    <tr>\n",
              "      <th>happy25_3</th>\n",
              "      <td>-0.931668</td>\n",
              "    </tr>\n",
              "    <tr>\n",
              "      <th>happy25_4</th>\n",
              "      <td>-0.209773</td>\n",
              "    </tr>\n",
              "    <tr>\n",
              "      <th>happy25_5</th>\n",
              "      <td>1.637026</td>\n",
              "    </tr>\n",
              "    <tr>\n",
              "      <th>happy25_6</th>\n",
              "      <td>-4.804447</td>\n",
              "    </tr>\n",
              "    <tr>\n",
              "      <th>tired25_2</th>\n",
              "      <td>-1.327608</td>\n",
              "    </tr>\n",
              "    <tr>\n",
              "      <th>tired25_3</th>\n",
              "      <td>-4.242379</td>\n",
              "    </tr>\n",
              "    <tr>\n",
              "      <th>tired25_4</th>\n",
              "      <td>-1.409117</td>\n",
              "    </tr>\n",
              "    <tr>\n",
              "      <th>tired25_5</th>\n",
              "      <td>1.212372</td>\n",
              "    </tr>\n",
              "    <tr>\n",
              "      <th>tired25_6</th>\n",
              "      <td>0.252650</td>\n",
              "    </tr>\n",
              "    <tr>\n",
              "      <th>hlthlm25_2</th>\n",
              "      <td>15.937909</td>\n",
              "    </tr>\n",
              "    <tr>\n",
              "      <th>hlthlm25_3</th>\n",
              "      <td>12.037928</td>\n",
              "    </tr>\n",
              "    <tr>\n",
              "      <th>hlthlm25_4</th>\n",
              "      <td>12.983706</td>\n",
              "    </tr>\n",
              "    <tr>\n",
              "      <th>hlthlm25_5</th>\n",
              "      <td>-13.019424</td>\n",
              "    </tr>\n",
              "  </tbody>\n",
              "</table>\n",
              "</div>"
            ],
            "text/plain": [
              "                       0\n",
              "age_s1         -0.051673\n",
              "race_2         -8.072760\n",
              "race_3        -27.427012\n",
              "educat_2       -0.858884\n",
              "educat_3        0.108731\n",
              "educat_4       14.235344\n",
              "mstat_2        -6.861817\n",
              "mstat_3        -4.234796\n",
              "mstat_4       -21.311642\n",
              "mstat_8       138.233140\n",
              "hip            -0.702874\n",
              "neck20         -0.478024\n",
              "waist           0.873910\n",
              "av_weight_kg   -0.210331\n",
              "cgpkyr          0.011506\n",
              "tea15           0.070454\n",
              "srhype_1       -0.048374\n",
              "parrptdiab_1   10.265333\n",
              "bend25_2        2.145588\n",
              "bend25_3        0.157795\n",
              "happy25_2       1.912684\n",
              "happy25_3      -0.931668\n",
              "happy25_4      -0.209773\n",
              "happy25_5       1.637026\n",
              "happy25_6      -4.804447\n",
              "tired25_2      -1.327608\n",
              "tired25_3      -4.242379\n",
              "tired25_4      -1.409117\n",
              "tired25_5       1.212372\n",
              "tired25_6       0.252650\n",
              "hlthlm25_2     15.937909\n",
              "hlthlm25_3     12.037928\n",
              "hlthlm25_4     12.983706\n",
              "hlthlm25_5    -13.019424"
            ]
          },
          "metadata": {
            "tags": []
          },
          "execution_count": 11
        }
      ]
    },
    {
      "cell_type": "code",
      "metadata": {
        "id": "0MmDFdLO7MYU",
        "colab_type": "code",
        "outputId": "59759f10-4f11-4bc7-fbcb-1975619a4f7d",
        "colab": {
          "base_uri": "https://localhost:8080/",
          "height": 1000
        }
      },
      "source": [
        "#sort features into descending order\n",
        "\n",
        "feat_coef = new_coef.sort_values(by=0 ,ascending=False)\n",
        "\n",
        "feat_coef.head(35)"
      ],
      "execution_count": 0,
      "outputs": [
        {
          "output_type": "execute_result",
          "data": {
            "text/html": [
              "<div>\n",
              "<style scoped>\n",
              "    .dataframe tbody tr th:only-of-type {\n",
              "        vertical-align: middle;\n",
              "    }\n",
              "\n",
              "    .dataframe tbody tr th {\n",
              "        vertical-align: top;\n",
              "    }\n",
              "\n",
              "    .dataframe thead th {\n",
              "        text-align: right;\n",
              "    }\n",
              "</style>\n",
              "<table border=\"1\" class=\"dataframe\">\n",
              "  <thead>\n",
              "    <tr style=\"text-align: right;\">\n",
              "      <th></th>\n",
              "      <th>0</th>\n",
              "    </tr>\n",
              "  </thead>\n",
              "  <tbody>\n",
              "    <tr>\n",
              "      <th>mstat_8</th>\n",
              "      <td>138.233140</td>\n",
              "    </tr>\n",
              "    <tr>\n",
              "      <th>hlthlm25_2</th>\n",
              "      <td>15.937909</td>\n",
              "    </tr>\n",
              "    <tr>\n",
              "      <th>educat_4</th>\n",
              "      <td>14.235344</td>\n",
              "    </tr>\n",
              "    <tr>\n",
              "      <th>hlthlm25_4</th>\n",
              "      <td>12.983706</td>\n",
              "    </tr>\n",
              "    <tr>\n",
              "      <th>hlthlm25_3</th>\n",
              "      <td>12.037928</td>\n",
              "    </tr>\n",
              "    <tr>\n",
              "      <th>parrptdiab_1</th>\n",
              "      <td>10.265333</td>\n",
              "    </tr>\n",
              "    <tr>\n",
              "      <th>bend25_2</th>\n",
              "      <td>2.145588</td>\n",
              "    </tr>\n",
              "    <tr>\n",
              "      <th>happy25_2</th>\n",
              "      <td>1.912684</td>\n",
              "    </tr>\n",
              "    <tr>\n",
              "      <th>happy25_5</th>\n",
              "      <td>1.637026</td>\n",
              "    </tr>\n",
              "    <tr>\n",
              "      <th>tired25_5</th>\n",
              "      <td>1.212372</td>\n",
              "    </tr>\n",
              "    <tr>\n",
              "      <th>waist</th>\n",
              "      <td>0.873910</td>\n",
              "    </tr>\n",
              "    <tr>\n",
              "      <th>tired25_6</th>\n",
              "      <td>0.252650</td>\n",
              "    </tr>\n",
              "    <tr>\n",
              "      <th>bend25_3</th>\n",
              "      <td>0.157795</td>\n",
              "    </tr>\n",
              "    <tr>\n",
              "      <th>educat_3</th>\n",
              "      <td>0.108731</td>\n",
              "    </tr>\n",
              "    <tr>\n",
              "      <th>tea15</th>\n",
              "      <td>0.070454</td>\n",
              "    </tr>\n",
              "    <tr>\n",
              "      <th>cgpkyr</th>\n",
              "      <td>0.011506</td>\n",
              "    </tr>\n",
              "    <tr>\n",
              "      <th>srhype_1</th>\n",
              "      <td>-0.048374</td>\n",
              "    </tr>\n",
              "    <tr>\n",
              "      <th>age_s1</th>\n",
              "      <td>-0.051673</td>\n",
              "    </tr>\n",
              "    <tr>\n",
              "      <th>happy25_4</th>\n",
              "      <td>-0.209773</td>\n",
              "    </tr>\n",
              "    <tr>\n",
              "      <th>av_weight_kg</th>\n",
              "      <td>-0.210331</td>\n",
              "    </tr>\n",
              "    <tr>\n",
              "      <th>neck20</th>\n",
              "      <td>-0.478024</td>\n",
              "    </tr>\n",
              "    <tr>\n",
              "      <th>hip</th>\n",
              "      <td>-0.702874</td>\n",
              "    </tr>\n",
              "    <tr>\n",
              "      <th>educat_2</th>\n",
              "      <td>-0.858884</td>\n",
              "    </tr>\n",
              "    <tr>\n",
              "      <th>happy25_3</th>\n",
              "      <td>-0.931668</td>\n",
              "    </tr>\n",
              "    <tr>\n",
              "      <th>tired25_2</th>\n",
              "      <td>-1.327608</td>\n",
              "    </tr>\n",
              "    <tr>\n",
              "      <th>tired25_4</th>\n",
              "      <td>-1.409117</td>\n",
              "    </tr>\n",
              "    <tr>\n",
              "      <th>mstat_3</th>\n",
              "      <td>-4.234796</td>\n",
              "    </tr>\n",
              "    <tr>\n",
              "      <th>tired25_3</th>\n",
              "      <td>-4.242379</td>\n",
              "    </tr>\n",
              "    <tr>\n",
              "      <th>happy25_6</th>\n",
              "      <td>-4.804447</td>\n",
              "    </tr>\n",
              "    <tr>\n",
              "      <th>mstat_2</th>\n",
              "      <td>-6.861817</td>\n",
              "    </tr>\n",
              "    <tr>\n",
              "      <th>race_2</th>\n",
              "      <td>-8.072760</td>\n",
              "    </tr>\n",
              "    <tr>\n",
              "      <th>hlthlm25_5</th>\n",
              "      <td>-13.019424</td>\n",
              "    </tr>\n",
              "    <tr>\n",
              "      <th>mstat_4</th>\n",
              "      <td>-21.311642</td>\n",
              "    </tr>\n",
              "    <tr>\n",
              "      <th>race_3</th>\n",
              "      <td>-27.427012</td>\n",
              "    </tr>\n",
              "  </tbody>\n",
              "</table>\n",
              "</div>"
            ],
            "text/plain": [
              "                       0\n",
              "mstat_8       138.233140\n",
              "hlthlm25_2     15.937909\n",
              "educat_4       14.235344\n",
              "hlthlm25_4     12.983706\n",
              "hlthlm25_3     12.037928\n",
              "parrptdiab_1   10.265333\n",
              "bend25_2        2.145588\n",
              "happy25_2       1.912684\n",
              "happy25_5       1.637026\n",
              "tired25_5       1.212372\n",
              "waist           0.873910\n",
              "tired25_6       0.252650\n",
              "bend25_3        0.157795\n",
              "educat_3        0.108731\n",
              "tea15           0.070454\n",
              "cgpkyr          0.011506\n",
              "srhype_1       -0.048374\n",
              "age_s1         -0.051673\n",
              "happy25_4      -0.209773\n",
              "av_weight_kg   -0.210331\n",
              "neck20         -0.478024\n",
              "hip            -0.702874\n",
              "educat_2       -0.858884\n",
              "happy25_3      -0.931668\n",
              "tired25_2      -1.327608\n",
              "tired25_4      -1.409117\n",
              "mstat_3        -4.234796\n",
              "tired25_3      -4.242379\n",
              "happy25_6      -4.804447\n",
              "mstat_2        -6.861817\n",
              "race_2         -8.072760\n",
              "hlthlm25_5    -13.019424\n",
              "mstat_4       -21.311642\n",
              "race_3        -27.427012"
            ]
          },
          "metadata": {
            "tags": []
          },
          "execution_count": 12
        }
      ]
    },
    {
      "cell_type": "markdown",
      "metadata": {
        "id": "_22Dd4WUcRYx",
        "colab_type": "text"
      },
      "source": [
        "The features above are sorted in descending order (note: sign). The top 5 features in terms of the magnitude of influence on CVD risk:\n",
        "\n",
        "1. **mstat_8**:  marital status (unknown)\n",
        "2. **race_3**: race (other)\n",
        "3. **mstat_4**: marital status (never married)\n",
        "4. **hlthlm25_2**: How much of past 4 weeks has health limited social activities? (Most of the time)\n",
        "5. **educat_4**: years of education (more than 20)\n"
      ]
    },
    {
      "cell_type": "markdown",
      "metadata": {
        "id": "F4nRxH4a_XTB",
        "colab_type": "text"
      },
      "source": [
        "**Part 3: Evaluate Model Performance**\n",
        "\n",
        "Evaluate the performance of the model (include ROC curve), explain the performance and draw a meaningful conclusion. "
      ]
    },
    {
      "cell_type": "code",
      "metadata": {
        "id": "hZR9ngRw-9hp",
        "colab_type": "code",
        "colab": {}
      },
      "source": [
        "# Display Confusion Matrix, Accuracy Score, Precision Score, Recall Score, F1 Score, AUC, and ROC graph\n",
        "from sklearn.metrics import confusion_matrix\n",
        "from sklearn.metrics import accuracy_score\n",
        "from sklearn.metrics import precision_score\n",
        "from sklearn.metrics import recall_score\n",
        "from sklearn.metrics import f1_score\n",
        "from sklearn.metrics import roc_auc_score\n",
        "from sklearn.metrics import roc_curve"
      ],
      "execution_count": 0,
      "outputs": []
    },
    {
      "cell_type": "code",
      "metadata": {
        "id": "fTxA9bfR_268",
        "colab_type": "code",
        "outputId": "b182a513-440a-4127-c345-20e7aeadf804",
        "colab": {
          "base_uri": "https://localhost:8080/",
          "height": 51
        }
      },
      "source": [
        "confusion_matrix(y_test, y_pred)"
      ],
      "execution_count": 0,
      "outputs": [
        {
          "output_type": "execute_result",
          "data": {
            "text/plain": [
              "array([[219, 228],\n",
              "       [ 96, 527]])"
            ]
          },
          "metadata": {
            "tags": []
          },
          "execution_count": 14
        }
      ]
    },
    {
      "cell_type": "code",
      "metadata": {
        "id": "zZl3F9gcidN2",
        "colab_type": "code",
        "outputId": "e7bb4ef5-5474-4337-a09b-cfe9941e1007",
        "colab": {
          "base_uri": "https://localhost:8080/",
          "height": 34
        }
      },
      "source": [
        "accuracy_score(y_test, y_pred)"
      ],
      "execution_count": 0,
      "outputs": [
        {
          "output_type": "execute_result",
          "data": {
            "text/plain": [
              "0.697196261682243"
            ]
          },
          "metadata": {
            "tags": []
          },
          "execution_count": 15
        }
      ]
    },
    {
      "cell_type": "code",
      "metadata": {
        "id": "ofFLjp88lFBp",
        "colab_type": "code",
        "outputId": "1f346ed8-2325-4950-cc98-44ffbecf1caf",
        "colab": {
          "base_uri": "https://localhost:8080/",
          "height": 34
        }
      },
      "source": [
        "precision_score(y_test, y_pred)"
      ],
      "execution_count": 0,
      "outputs": [
        {
          "output_type": "execute_result",
          "data": {
            "text/plain": [
              "0.6980132450331126"
            ]
          },
          "metadata": {
            "tags": []
          },
          "execution_count": 17
        }
      ]
    },
    {
      "cell_type": "code",
      "metadata": {
        "id": "aYBv9ugzlRTC",
        "colab_type": "code",
        "outputId": "f330df20-952d-4af1-8ed3-dba7b45b27a2",
        "colab": {
          "base_uri": "https://localhost:8080/",
          "height": 34
        }
      },
      "source": [
        "recall_score(y_test, y_pred)"
      ],
      "execution_count": 0,
      "outputs": [
        {
          "output_type": "execute_result",
          "data": {
            "text/plain": [
              "0.8459069020866774"
            ]
          },
          "metadata": {
            "tags": []
          },
          "execution_count": 18
        }
      ]
    },
    {
      "cell_type": "code",
      "metadata": {
        "id": "gKRpXqc5ldHh",
        "colab_type": "code",
        "outputId": "f5f5754e-79c4-4069-a566-b556fb0becc9",
        "colab": {
          "base_uri": "https://localhost:8080/",
          "height": 34
        }
      },
      "source": [
        "f1_score(y_test, y_pred)"
      ],
      "execution_count": 0,
      "outputs": [
        {
          "output_type": "execute_result",
          "data": {
            "text/plain": [
              "0.7648766328011611"
            ]
          },
          "metadata": {
            "tags": []
          },
          "execution_count": 19
        }
      ]
    },
    {
      "cell_type": "code",
      "metadata": {
        "id": "27jU9bA6ls3T",
        "colab_type": "code",
        "outputId": "0899ca36-e8b9-4db7-808c-a21baf97ecac",
        "colab": {
          "base_uri": "https://localhost:8080/",
          "height": 34
        }
      },
      "source": [
        "roc_auc_score(y_test, y_pred)"
      ],
      "execution_count": 0,
      "outputs": [
        {
          "output_type": "execute_result",
          "data": {
            "text/plain": [
              "0.6679198939963589"
            ]
          },
          "metadata": {
            "tags": []
          },
          "execution_count": 20
        }
      ]
    },
    {
      "cell_type": "code",
      "metadata": {
        "id": "tczVDVJZilCo",
        "colab_type": "code",
        "outputId": "615df7ed-c143-48ae-a950-b40cffbe83e9",
        "colab": {
          "base_uri": "https://localhost:8080/",
          "height": 173
        }
      },
      "source": [
        "from sklearn.metrics import classification_report\n",
        "print(classification_report(y_test, y_pred))"
      ],
      "execution_count": 0,
      "outputs": [
        {
          "output_type": "stream",
          "text": [
            "              precision    recall  f1-score   support\n",
            "\n",
            "           0       0.70      0.49      0.57       447\n",
            "           1       0.70      0.85      0.76       623\n",
            "\n",
            "    accuracy                           0.70      1070\n",
            "   macro avg       0.70      0.67      0.67      1070\n",
            "weighted avg       0.70      0.70      0.69      1070\n",
            "\n"
          ],
          "name": "stdout"
        }
      ]
    },
    {
      "cell_type": "markdown",
      "metadata": {
        "id": "o58wQrD7mn-F",
        "colab_type": "text"
      },
      "source": [
        "**Display ROC graph**"
      ]
    },
    {
      "cell_type": "code",
      "metadata": {
        "id": "L6jOf7npmrfW",
        "colab_type": "code",
        "colab": {}
      },
      "source": [
        "from sklearn import metrics\n",
        "\n",
        "y_probs = model1.predict_proba(X_test)\n",
        "y_preds = y_probs[:,1]"
      ],
      "execution_count": 0,
      "outputs": []
    },
    {
      "cell_type": "code",
      "metadata": {
        "id": "0tk7kwoKiJDy",
        "colab_type": "code",
        "outputId": "36dddc2a-49b9-4d0b-82ba-076a3736b216",
        "colab": {
          "base_uri": "https://localhost:8080/",
          "height": 283
        }
      },
      "source": [
        "import matplotlib.pyplot as plt\n",
        "\n",
        "fpr, tpr, threshold = roc_curve(y_test, y_preds)\n",
        "\n",
        "\n",
        "plt.plot(fpr, tpr)\n",
        "plt.plot([0, 1], [0, 1],'r--')\n",
        "plt.xlim([0, 1])\n",
        "plt.ylim([0, 1])\n",
        "plt.ylabel('True Positive Rate')\n",
        "plt.xlabel('False Positive Rate')\n",
        "plt.show()"
      ],
      "execution_count": 0,
      "outputs": [
        {
          "output_type": "display_data",
          "data": {
            "image/png": "[encoded data removed]",
            "text/plain": [
              "<Figure size 432x288 with 1 Axes>"
            ]
          },
          "metadata": {
            "tags": []
          }
        }
      ]
    }
  ]
}